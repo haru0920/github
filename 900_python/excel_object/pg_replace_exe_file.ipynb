{
 "cells": [
  {
   "cell_type": "code",
   "execution_count": 1,
   "metadata": {},
   "outputs": [],
   "source": [
    "import os\n",
    "import shutil\n",
    "\n",
    "import openpyxl\n",
    "import pandas as pd\n",
    "\n",
    "# 作成ライブラリの読み込み\n",
    "from lib.lib_directory import *\n",
    "from lib.lib_shape import *\n",
    "from lib.lib_shape_process import *\n",
    "import lib.lib_init as var"
   ]
  },
  {
   "cell_type": "markdown",
   "metadata": {},
   "source": [
    "### 初期設定(実行前に確認・変更を行ってください)"
   ]
  },
  {
   "cell_type": "code",
   "execution_count": 2,
   "metadata": {},
   "outputs": [],
   "source": [
    "#########################################\n",
    "# 初期設定(実行前に確認・変更を行ってください) #\n",
    "#########################################\n",
    "\n",
    "# データフローを記載するExcelファイル名\n",
    "filename = './sample.xlsx'\n",
    "\n",
    "# データフローを記載するシート名\n",
    "sheetname = 'データフロー図'\n",
    "\n",
    "# workflowのディレクトリ構造を出力ディレクトリ\n",
    "output_dir = './output/'\n",
    "\n",
    "# 各種設定のtemplateを格納しているディレクトリ\n",
    "template_dir = './template/'\n",
    "\n",
    "# workflowのプロジェクト名\n",
    "project_name = 'sample_project01'"
   ]
  },
  {
   "cell_type": "markdown",
   "metadata": {},
   "source": [
    "### 以降、プログラム処理の部分のため必要がない場合は修正を行わない"
   ]
  },
  {
   "cell_type": "code",
   "execution_count": 3,
   "metadata": {},
   "outputs": [],
   "source": [
    "# workflowディレクトリの生成\n",
    "base_dir = output_dir + project_name\n",
    "\n",
    "# template_management.csvを取り込み\n",
    "df = pd.read_csv(template_dir + 'template_management.csv')\n",
    "\n",
    "# Excelデータの読み込み(フロー記述のExcel)\n",
    "wb = openpyxl.load_workbook(filename, data_only=True)"
   ]
  },
  {
   "cell_type": "code",
   "execution_count": 8,
   "metadata": {},
   "outputs": [],
   "source": [
    "# 設定内容一覧のセクション開始文字列\n",
    "list_section = ['設定内容一覧', 'カラム設定', '特記事項']\n",
    "start_col = 2\n",
    "start_row = 2\n",
    "\n",
    "for sheet in wb.sheetnames:\n",
    "  if sheet == sheetname:\n",
    "    continue\n",
    "  book = wb[sheet]\n",
    "\n",
    "  list_section_point = []\n",
    "  for i in range (start_row, book.max_row):\n",
    "    if book.cell(i, start_col).value in list_section:\n",
    "      #print(book.cell(i, start_col).value + ':' + str(i))\n",
    "      list_section_point.append(i)\n",
    "  list_section_point.sort()\n",
    "  \n",
    "  for i in range (0, len(list_section_point) - 1):\n",
    "    skiprows = list_section_point[i]\n",
    "    skipfooter = book.max_row - (list_section_point[i + 1] - 2)\n",
    "    df = pd.read_excel(filename, sheet_name=sheet, skiprows=skiprows, skipfooter=skipfooter)\n",
    "  break  "
   ]
  },
  {
   "cell_type": "code",
   "execution_count": 9,
   "metadata": {},
   "outputs": [
    {
     "data": {
      "text/html": [
       "<div>\n",
       "<style scoped>\n",
       "    .dataframe tbody tr th:only-of-type {\n",
       "        vertical-align: middle;\n",
       "    }\n",
       "\n",
       "    .dataframe tbody tr th {\n",
       "        vertical-align: top;\n",
       "    }\n",
       "\n",
       "    .dataframe thead th {\n",
       "        text-align: right;\n",
       "    }\n",
       "</style>\n",
       "<table border=\"1\" class=\"dataframe\">\n",
       "  <thead>\n",
       "    <tr style=\"text-align: right;\">\n",
       "      <th></th>\n",
       "      <th>Unnamed: 0</th>\n",
       "      <th>No.</th>\n",
       "      <th>物理名</th>\n",
       "      <th>論理名</th>\n",
       "      <th>型</th>\n",
       "      <th>フォーマット</th>\n",
       "      <th>タイムゾーン</th>\n",
       "      <th>説明</th>\n",
       "      <th>Unnamed: 8</th>\n",
       "      <th>Unnamed: 9</th>\n",
       "    </tr>\n",
       "  </thead>\n",
       "  <tbody>\n",
       "    <tr>\n",
       "      <th>0</th>\n",
       "      <td>NaN</td>\n",
       "      <td>1</td>\n",
       "      <td>test01</td>\n",
       "      <td>テスト1</td>\n",
       "      <td>boolean</td>\n",
       "      <td>NaN</td>\n",
       "      <td>NaN</td>\n",
       "      <td>NaN</td>\n",
       "      <td>NaN</td>\n",
       "      <td>NaN</td>\n",
       "    </tr>\n",
       "    <tr>\n",
       "      <th>1</th>\n",
       "      <td>NaN</td>\n",
       "      <td>2</td>\n",
       "      <td>test02</td>\n",
       "      <td>テスト2</td>\n",
       "      <td>long</td>\n",
       "      <td>NaN</td>\n",
       "      <td>NaN</td>\n",
       "      <td>NaN</td>\n",
       "      <td>NaN</td>\n",
       "      <td>NaN</td>\n",
       "    </tr>\n",
       "    <tr>\n",
       "      <th>2</th>\n",
       "      <td>NaN</td>\n",
       "      <td>3</td>\n",
       "      <td>test03</td>\n",
       "      <td>テスト3</td>\n",
       "      <td>timestamp</td>\n",
       "      <td>%Y-%m-%d %H:%M:%S</td>\n",
       "      <td>Asia/Tokyo</td>\n",
       "      <td>NaN</td>\n",
       "      <td>NaN</td>\n",
       "      <td>NaN</td>\n",
       "    </tr>\n",
       "    <tr>\n",
       "      <th>3</th>\n",
       "      <td>NaN</td>\n",
       "      <td>4</td>\n",
       "      <td>test04</td>\n",
       "      <td>テスト4</td>\n",
       "      <td>double</td>\n",
       "      <td>NaN</td>\n",
       "      <td>NaN</td>\n",
       "      <td>NaN</td>\n",
       "      <td>NaN</td>\n",
       "      <td>NaN</td>\n",
       "    </tr>\n",
       "    <tr>\n",
       "      <th>4</th>\n",
       "      <td>NaN</td>\n",
       "      <td>5</td>\n",
       "      <td>test05</td>\n",
       "      <td>テスト5</td>\n",
       "      <td>string</td>\n",
       "      <td>NaN</td>\n",
       "      <td>NaN</td>\n",
       "      <td>NaN</td>\n",
       "      <td>NaN</td>\n",
       "      <td>NaN</td>\n",
       "    </tr>\n",
       "  </tbody>\n",
       "</table>\n",
       "</div>"
      ],
      "text/plain": [
       "   Unnamed: 0  No.     物理名   論理名          型             フォーマット      タイムゾーン  \\\n",
       "0         NaN    1  test01  テスト1    boolean                NaN         NaN   \n",
       "1         NaN    2  test02  テスト2       long                NaN         NaN   \n",
       "2         NaN    3  test03  テスト3  timestamp  %Y-%m-%d %H:%M:%S  Asia/Tokyo   \n",
       "3         NaN    4  test04  テスト4     double                NaN         NaN   \n",
       "4         NaN    5  test05  テスト5     string                NaN         NaN   \n",
       "\n",
       "   説明  Unnamed: 8  Unnamed: 9  \n",
       "0 NaN         NaN         NaN  \n",
       "1 NaN         NaN         NaN  \n",
       "2 NaN         NaN         NaN  \n",
       "3 NaN         NaN         NaN  \n",
       "4 NaN         NaN         NaN  "
      ]
     },
     "execution_count": 9,
     "metadata": {},
     "output_type": "execute_result"
    }
   ],
   "source": [
    "df"
   ]
  },
  {
   "cell_type": "code",
   "execution_count": 22,
   "metadata": {},
   "outputs": [
    {
     "data": {
      "text/plain": [
       "15"
      ]
     },
     "execution_count": 22,
     "metadata": {},
     "output_type": "execute_result"
    }
   ],
   "source": [
    "33 - 18"
   ]
  },
  {
   "cell_type": "code",
   "execution_count": null,
   "metadata": {},
   "outputs": [],
   "source": []
  },
  {
   "cell_type": "code",
   "execution_count": null,
   "metadata": {},
   "outputs": [],
   "source": []
  },
  {
   "cell_type": "code",
   "execution_count": null,
   "metadata": {},
   "outputs": [],
   "source": []
  },
  {
   "cell_type": "code",
   "execution_count": null,
   "metadata": {},
   "outputs": [],
   "source": []
  },
  {
   "cell_type": "code",
   "execution_count": null,
   "metadata": {},
   "outputs": [],
   "source": []
  },
  {
   "cell_type": "code",
   "execution_count": null,
   "metadata": {},
   "outputs": [],
   "source": []
  },
  {
   "cell_type": "code",
   "execution_count": null,
   "metadata": {},
   "outputs": [],
   "source": []
  },
  {
   "cell_type": "code",
   "execution_count": null,
   "metadata": {},
   "outputs": [],
   "source": []
  },
  {
   "cell_type": "code",
   "execution_count": null,
   "metadata": {},
   "outputs": [],
   "source": []
  },
  {
   "cell_type": "code",
   "execution_count": null,
   "metadata": {},
   "outputs": [],
   "source": []
  },
  {
   "cell_type": "code",
   "execution_count": null,
   "metadata": {},
   "outputs": [],
   "source": []
  },
  {
   "cell_type": "code",
   "execution_count": null,
   "metadata": {},
   "outputs": [],
   "source": []
  },
  {
   "cell_type": "code",
   "execution_count": null,
   "metadata": {},
   "outputs": [],
   "source": []
  },
  {
   "cell_type": "code",
   "execution_count": null,
   "metadata": {},
   "outputs": [],
   "source": []
  },
  {
   "cell_type": "code",
   "execution_count": null,
   "metadata": {},
   "outputs": [],
   "source": [
    "# 図形情報の辞書化\n",
    "dict_org = {}\n",
    "dict_org = get_shape_dict(sheet)\n",
    "\n",
    "# 図形付加情報,X軸下端,Y軸右端を追加\n",
    "dict_org = add_shape_info(dict_org)\n",
    "\n",
    "# 図形と線を分離\n",
    "dict_shape = {}\n",
    "dict_line = {}\n",
    "dict_shape, dict_line = split_shape_line_dict(dict_org)\n",
    "\n",
    "# 図形のin_point/out_pointを付与\n",
    "dict_shape = add_shape_info_point(dict_shape)\n",
    "\n",
    "# 図形のin_line_no/out_line_noを付与\n",
    "dict_shape = add_shape_info_lineno(dict_shape, dict_line)\n",
    "\n",
    "# 図形の処理を全て終わるまでループしてworkflowファイル群を生成\n",
    "main_shape_process(dict_shape, fp, template_dir, base_dir, df, wb_tmp, wb)\n",
    "\n",
    "# mainとなるdigのファイルをクローズ\n",
    "fp.close()"
   ]
  },
  {
   "cell_type": "code",
   "execution_count": null,
   "metadata": {},
   "outputs": [],
   "source": []
  }
 ],
 "metadata": {
  "kernelspec": {
   "display_name": "Python 3",
   "language": "python",
   "name": "python3"
  },
  "language_info": {
   "codemirror_mode": {
    "name": "ipython",
    "version": 3
   },
   "file_extension": ".py",
   "mimetype": "text/x-python",
   "name": "python",
   "nbconvert_exporter": "python",
   "pygments_lexer": "ipython3",
   "version": "3.8.5"
  }
 },
 "nbformat": 4,
 "nbformat_minor": 4
}
