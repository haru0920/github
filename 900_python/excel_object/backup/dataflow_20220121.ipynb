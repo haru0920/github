{
 "cells": [
  {
   "cell_type": "code",
   "execution_count": 1,
   "metadata": {},
   "outputs": [],
   "source": [
    "import os\n",
    "import shutil\n",
    "\n",
    "import xlwings as xw\n",
    "import pandas as pd\n",
    "\n",
    "# 作成ライブラリの読み込み\n",
    "from lib.lib_directory import init_dir\n",
    "from lib.lib_shape import get_shape_dict, add_shape_info, split_shape_line_dict, add_shape_info_point, add_shape_info_lineno\n",
    "from lib.lib_shape_process import process_shape, process_shape_process, process_shape_judgement, process_shape_loop, search_shape"
   ]
  },
  {
   "cell_type": "markdown",
   "metadata": {},
   "source": [
    "### 初期設定(実行前に確認・変更を行ってください)"
   ]
  },
  {
   "cell_type": "code",
   "execution_count": 2,
   "metadata": {},
   "outputs": [],
   "source": [
    "#########################################\n",
    "# 初期設定(実行前に確認・変更を行ってください) #\n",
    "#########################################\n",
    "\n",
    "# データフローを記載するExcelファイル名\n",
    "filename = './sample.xlsx'\n",
    "\n",
    "# workflowのディレクトリ構造を出力ディレクトリ\n",
    "output_dir = './output/'\n",
    "\n",
    "# 各種設定のtemplateを格納しているディレクトリ\n",
    "template_dir = './template/'\n",
    "\n",
    "# workflowのプロジェクト名\n",
    "project_name = 'sample_project02'"
   ]
  },
  {
   "cell_type": "markdown",
   "metadata": {},
   "source": [
    "### 以降、プログラム処理の部分のため必要がない場合は修正を行わない"
   ]
  },
  {
   "cell_type": "code",
   "execution_count": 3,
   "metadata": {},
   "outputs": [],
   "source": [
    "##############################################\n",
    "# 初期設定(固定値のため基本的に変更しないでください) #\n",
    "##############################################\n",
    "\n",
    "# 図形の付加情報\n",
    "dict_fix_name = {\n",
    "    'Rectangle':{'desc':'処理', 'kubun':0}\n",
    "    , 'Diamond':{'desc':'判定', 'kubun':1}\n",
    "    , 'Flowchart: Decision':{'desc':'判定終端', 'kubun':-1}\n",
    "    , 'Trapezoid':{'desc':'繰り返し', 'kubun':2}\n",
    "    , 'Flowchart: Manual Operation':{'desc':'繰り返し終端', 'kubun':-2}\n",
    "    , 'Straight Connector':{'desc':'直線', 'kubun':99}\n",
    "    , 'Elbow Connector':{'desc':'カギ線', 'kubun':99}\n",
    "}\n",
    "\n",
    "# ネスト時の文字列\n",
    "nest_str = '    '"
   ]
  },
  {
   "cell_type": "code",
   "execution_count": 4,
   "metadata": {},
   "outputs": [],
   "source": [
    "# workflowディレクトリの生成\n",
    "base_dir = output_dir + project_name\n",
    "init_dir(base_dir, output_dir, project_name)\n",
    "\n",
    "# mainとなるdigのファイルをオープン\n",
    "fp = open(base_dir + '/' + project_name + '.dig', 'w')\n",
    "\n",
    "# template_management.csvを取り込み\n",
    "df = pd.read_csv(template_dir + 'template_management.csv')\n",
    "\n",
    "# Excelデータの読み込み(フロー記述のExcel)\n",
    "wb = xw.Book(filename)\n",
    "sheet = wb.sheets.active\n",
    "\n",
    "# Excelデータの読み込み(templateのExcel)\n"
   ]
  },
  {
   "cell_type": "code",
   "execution_count": 5,
   "metadata": {},
   "outputs": [],
   "source": [
    "# 図形情報の辞書化\n",
    "dict_org = {}\n",
    "dict_org = get_shape_dict(sheet)\n",
    "\n",
    "# 図形付加情報,X軸下端,Y軸右端を追加\n",
    "dict_org = add_shape_info(dict_org, dict_fix_name)\n",
    "\n",
    "# 図形と線を分離\n",
    "dict_shape = {}\n",
    "dict_line = {}\n",
    "dict_shape, dict_line = split_shape_line_dict(dict_org)\n",
    "\n",
    "# 図形のin_point/out_pointを付与\n",
    "dict_shape = add_shape_info_point(dict_shape)\n",
    "\n",
    "# 図形のin_line_no/out_line_noを付与\n",
    "dict_shape = add_shape_info_lineno(dict_shape, dict_line)"
   ]
  },
  {
   "cell_type": "code",
   "execution_count": 6,
   "metadata": {},
   "outputs": [
    {
     "data": {
      "text/plain": [
       "\"\\n# 図形の処理：処理(四角)\\ndef process_shape_process(current_shape, nest):\\n\\n    #\\u3000タスク名を取得\\n    task_name = dict_shape[current_shape]['text'][0]\\n    \\n    # 処理タイプを取得\\n    type_name = dict_shape[current_shape]['text'][1]\\n\\n    # 管理ファイルから情報を取得\\n    management_info = df[df['type'] == type_name]\\n\\n    # テンプレートファイルをコピー(exe)\\n    print(management_info['exe_filename'].iloc[0].split('.'))\\n    extension = management_info['exe_filename'].iloc[0].split('.')[1]\\n    src = template_dir + management_info['exe_filename'].iloc[0]\\n    dest = '{}/{}/{}_{}.{}'.format(base_dir, management_info['exe_dir'].iloc[0], task_name, type_name, extension)\\n    shutil.copy(src, dest)\\n\\n    # テンプレートファイルをコピー(dig)\\n    src = template_dir + management_info['dig_filename'].iloc[0]\\n    dig_filename = '{}_{}.dig'.format(task_name, type_name)\\n    dest = '{}/digs/{}'.format(base_dir, dig_filename)\\n    shutil.copy(src, dest)\\n\\n    # メインとなるdigファイルに出力\\n    if len(dict_shape[current_shape]['text']) > 2:\\n        fp.write('{}# {}\\n'.format(nest_str * nest, dict_shape[current_shape]['text'][2]))\\n    fp.write('{}+{}:\\n'.format(nest_str * nest, task_name))\\n    fp.write('{}  call>: digs/{}\\n\\n'.format(nest_str * nest, dig_filename))\\n\""
      ]
     },
     "execution_count": 6,
     "metadata": {},
     "output_type": "execute_result"
    }
   ],
   "source": [
    "'''\n",
    "# 図形の処理：処理(四角)\n",
    "def process_shape_process(current_shape, nest):\n",
    "\n",
    "    #　タスク名を取得\n",
    "    task_name = dict_shape[current_shape]['text'][0]\n",
    "    \n",
    "    # 処理タイプを取得\n",
    "    type_name = dict_shape[current_shape]['text'][1]\n",
    "\n",
    "    # 管理ファイルから情報を取得\n",
    "    management_info = df[df['type'] == type_name]\n",
    "\n",
    "    # テンプレートファイルをコピー(exe)\n",
    "    print(management_info['exe_filename'].iloc[0].split('.'))\n",
    "    extension = management_info['exe_filename'].iloc[0].split('.')[1]\n",
    "    src = template_dir + management_info['exe_filename'].iloc[0]\n",
    "    dest = '{}/{}/{}_{}.{}'.format(base_dir, management_info['exe_dir'].iloc[0], task_name, type_name, extension)\n",
    "    shutil.copy(src, dest)\n",
    "\n",
    "    # テンプレートファイルをコピー(dig)\n",
    "    src = template_dir + management_info['dig_filename'].iloc[0]\n",
    "    dig_filename = '{}_{}.dig'.format(task_name, type_name)\n",
    "    dest = '{}/digs/{}'.format(base_dir, dig_filename)\n",
    "    shutil.copy(src, dest)\n",
    "\n",
    "    # メインとなるdigファイルに出力\n",
    "    if len(dict_shape[current_shape]['text']) > 2:\n",
    "        fp.write('{}# {}\\n'.format(nest_str * nest, dict_shape[current_shape]['text'][2]))\n",
    "    fp.write('{}+{}:\\n'.format(nest_str * nest, task_name))\n",
    "    fp.write('{}  call>: digs/{}\\n\\n'.format(nest_str * nest, dig_filename))\n",
    "'''"
   ]
  },
  {
   "cell_type": "code",
   "execution_count": 7,
   "metadata": {},
   "outputs": [
    {
     "data": {
      "text/plain": [
       "\"\\n# 図形の処理：判定(ひし形)\\n# flag = 0：if処理 flag = 1：else処理\\ndef process_shape_judgement(current_shape, nest, flag):\\n\\n    if flag == 0:\\n        #\\u3000タスク名を取得\\n        task_name = dict_shape[current_shape]['text'][0]\\n\\n        # メインとなるdigファイルに出力\\n        if len(dict_shape[current_shape]['text']) > 1:\\n            fp.write('{}# {}\\n'.format(nest_str * nest, dict_shape[current_shape]['text'][1]))\\n\\n        fp.write('{}+{}:\\n'.format(nest_str * nest, task_name))\\n        fp.write('{}  if>: \\n'.format(nest_str * nest))\\n        fp.write('{}  _do:\\n\\n'.format(nest_str * nest))\\n    \\n    else:\\n        # メインとなるdigファイルに出力\\n        fp.write('{}  _else_do:\\n\\n'.format(nest_str * nest))\\n\""
      ]
     },
     "execution_count": 7,
     "metadata": {},
     "output_type": "execute_result"
    }
   ],
   "source": [
    "'''\n",
    "# 図形の処理：判定(ひし形)\n",
    "# flag = 0：if処理 flag = 1：else処理\n",
    "def process_shape_judgement(current_shape, nest, flag):\n",
    "\n",
    "    if flag == 0:\n",
    "        #　タスク名を取得\n",
    "        task_name = dict_shape[current_shape]['text'][0]\n",
    "\n",
    "        # メインとなるdigファイルに出力\n",
    "        if len(dict_shape[current_shape]['text']) > 1:\n",
    "            fp.write('{}# {}\\n'.format(nest_str * nest, dict_shape[current_shape]['text'][1]))\n",
    "\n",
    "        fp.write('{}+{}:\\n'.format(nest_str * nest, task_name))\n",
    "        fp.write('{}  if>: \\n'.format(nest_str * nest))\n",
    "        fp.write('{}  _do:\\n\\n'.format(nest_str * nest))\n",
    "    \n",
    "    else:\n",
    "        # メインとなるdigファイルに出力\n",
    "        fp.write('{}  _else_do:\\n\\n'.format(nest_str * nest))\n",
    "'''"
   ]
  },
  {
   "cell_type": "code",
   "execution_count": 8,
   "metadata": {},
   "outputs": [
    {
     "data": {
      "text/plain": [
       "\"\\n# 図形の処理：繰り返し(台形)\\ndef process_shape_loop(current_shape, nest):\\n    \\n    #\\u3000タスク名を取得\\n    task_name = dict_shape[current_shape]['text'][0]\\n    \\n    # 処理タイプを取得\\n    type_name = dict_shape[current_shape]['text'][1]\\n\\n    # 管理ファイルから情報を取得\\n    management_info = df[df['type'] == type_name]\\n\\n    # テンプレートファイルをコピー(exe)\\n    if len(management_info['exe_filename'].iloc[0]) != 0:\\n        extension = management_info['exe_filename'].iloc[0].split('.')[1]\\n        src = template_dir + management_info['exe_filename'].iloc[0]\\n        dest = '{}/{}/{}_{}.{}'.format(base_dir, management_info['exe_dir'].iloc[0], task_name, type_name, extension)\\n        shutil.copy(src, dest)\\n    \\n    # メインとなるdigファイルに出力\\n    if len(dict_shape[current_shape]['text']) > 2:\\n        fp.write('{}# {}\\n'.format(nest_str * nest, dict_shape[current_shape]['text'][2]))\\n\\n    fp.write('{}+{}:\\n'.format(nest_str * nest, task_name))\\n    management_info = df[df['type'] == type_name]\\n    with open(template_dir + management_info['dig_filename'].iloc[0], 'r') as f:\\n        for line in f:\\n            if '{{file_name}}' in line:\\n                output = line.replace('{{file_name}}', '{}/{}_{}.{}'.format(management_info['exe_dir'].iloc[0], task_name, type_name, extension))\\n            else:\\n                output = line\\n            fp.write('{}{}\\n'.format(nest_str * nest, output))\\n    fp.write('\\n')\\n\""
      ]
     },
     "execution_count": 8,
     "metadata": {},
     "output_type": "execute_result"
    }
   ],
   "source": [
    "'''\n",
    "# 図形の処理：繰り返し(台形)\n",
    "def process_shape_loop(current_shape, nest):\n",
    "    \n",
    "    #　タスク名を取得\n",
    "    task_name = dict_shape[current_shape]['text'][0]\n",
    "    \n",
    "    # 処理タイプを取得\n",
    "    type_name = dict_shape[current_shape]['text'][1]\n",
    "\n",
    "    # 管理ファイルから情報を取得\n",
    "    management_info = df[df['type'] == type_name]\n",
    "\n",
    "    # テンプレートファイルをコピー(exe)\n",
    "    if len(management_info['exe_filename'].iloc[0]) != 0:\n",
    "        extension = management_info['exe_filename'].iloc[0].split('.')[1]\n",
    "        src = template_dir + management_info['exe_filename'].iloc[0]\n",
    "        dest = '{}/{}/{}_{}.{}'.format(base_dir, management_info['exe_dir'].iloc[0], task_name, type_name, extension)\n",
    "        shutil.copy(src, dest)\n",
    "    \n",
    "    # メインとなるdigファイルに出力\n",
    "    if len(dict_shape[current_shape]['text']) > 2:\n",
    "        fp.write('{}# {}\\n'.format(nest_str * nest, dict_shape[current_shape]['text'][2]))\n",
    "\n",
    "    fp.write('{}+{}:\\n'.format(nest_str * nest, task_name))\n",
    "    management_info = df[df['type'] == type_name]\n",
    "    with open(template_dir + management_info['dig_filename'].iloc[0], 'r') as f:\n",
    "        for line in f:\n",
    "            if '{{file_name}}' in line:\n",
    "                output = line.replace('{{file_name}}', '{}/{}_{}.{}'.format(management_info['exe_dir'].iloc[0], task_name, type_name, extension))\n",
    "            else:\n",
    "                output = line\n",
    "            fp.write('{}{}\\n'.format(nest_str * nest, output))\n",
    "    fp.write('\\n')\n",
    "'''"
   ]
  },
  {
   "cell_type": "code",
   "execution_count": 9,
   "metadata": {},
   "outputs": [
    {
     "data": {
      "text/plain": [
       "\"\\n# 図形の処理\\ndef process_shape(current_shape, nest, ):\\n    # 処理：四角\\n    if dict_shape[current_shape]['add_info']['kubun'] == 0:\\n        process_shape_process(current_shape, nest, dict_shape, template_dir, base_dir, fp, df, nest_str)\\n        \\n    # 判定：ひし形\\n    elif dict_shape[current_shape]['add_info']['kubun'] == 1:\\n        process_shape_judgement(current_shape, nest, 0, dict_shape, fp, nest_str)\\n    \\n    # 繰り返し：台形\\n    elif dict_shape[current_shape]['add_info']['kubun'] == 2:\\n        process_shape_loop(current_shape, nest, dict_shape, df, template_dir, base_dir, nest_str, fp)\\n\""
      ]
     },
     "execution_count": 9,
     "metadata": {},
     "output_type": "execute_result"
    }
   ],
   "source": [
    "'''\n",
    "# 図形の処理\n",
    "def process_shape(current_shape, nest, ):\n",
    "    # 処理：四角\n",
    "    if dict_shape[current_shape]['add_info']['kubun'] == 0:\n",
    "        process_shape_process(current_shape, nest, dict_shape, template_dir, base_dir, fp, df, nest_str)\n",
    "        \n",
    "    # 判定：ひし形\n",
    "    elif dict_shape[current_shape]['add_info']['kubun'] == 1:\n",
    "        process_shape_judgement(current_shape, nest, 0, dict_shape, fp, nest_str)\n",
    "    \n",
    "    # 繰り返し：台形\n",
    "    elif dict_shape[current_shape]['add_info']['kubun'] == 2:\n",
    "        process_shape_loop(current_shape, nest, dict_shape, df, template_dir, base_dir, nest_str, fp)\n",
    "'''"
   ]
  },
  {
   "cell_type": "code",
   "execution_count": 10,
   "metadata": {},
   "outputs": [
    {
     "data": {
      "text/plain": [
       "\"\\n# 図形の探索\\ndef search_shape(list_fin, list_stack_process, list_stack_termination, nest):\\n    #print('==========')\\n    #print('list_fin：' + str(list_fin))\\n    #print('list_stack_process：' + str(list_stack_process))\\n    #print('list_stack_termination：' + str(list_stack_termination))\\n    #print('nest：' + str(nest))\\n        \\n    # スタックされている処理を取得\\n    if len(list_stack_process) != 0:\\n        current_shape = list_stack_process.pop()\\n        process_shape(current_shape, nest)\\n        \\n        # 判定か繰り返しを処理した場合、nestをインクリメント\\n        if dict_shape[current_shape]['add_info']['kubun'] in [1, 2]:\\n            nest += 1\\n        list_fin.append(current_shape)\\n            \\n    # 終端図形の番号を取得し、nestをデクリメント\\n    elif len(list_stack_termination) != 0:\\n        while len(list_stack_termination) != 0:\\n            current_shape = list_stack_termination.pop()\\n            if current_shape not in list_fin:\\n                list_fin.append(current_shape)\\n                nest -= 1\\n                while 1:\\n                    try:\\n                        list_stack_termination.remove(current_shape)\\n                    except ValueError as e:\\n                        break\\n                break\\n\\n    # 全て処理し終えていたらreturn\\n    if len(list_fin) == dict_shape['cnt']:\\n        return list_fin, list_stack_process, list_stack_termination, nest\\n    \\n    # out_line_noから次の図形を探索\\n    for out_line in dict_shape[current_shape]['out_line_no']:\\n        i = 0\\n                \\n        for i in range (0, dict_shape['cnt']):\\n            if out_line in dict_shape[i]['in_line_no']:\\n                # 見つかった図形が終端の場合は終端リストに格納\\n                if dict_shape[i]['add_info']['kubun'] < 0:\\n                    list_stack_termination.append(i)\\n                \\n                # 見つかった図形が終端ではない場合再帰処理\\n                else:\\n                    # 判定の2つめのout_line_noが終端以外に紐付いている場合、else句\\n                    if dict_shape[current_shape]['add_info']['kubun'] == 1 and dict_shape[current_shape]['out_line_no'][1] == out_line:\\n                        process_shape_judgement(current_shape, nest - 1, 1, dict_shape, fp, nest_str)\\n                    list_stack_process.append(i)\\n                    list_fin, list_stack_process, list_stack_termination, nest = search_shape(list_fin, list_stack_process, list_stack_termination, nest)\\n                break\\n\\n    return list_fin, list_stack_process, list_stack_termination, nest\\n\""
      ]
     },
     "execution_count": 10,
     "metadata": {},
     "output_type": "execute_result"
    }
   ],
   "source": [
    "'''\n",
    "# 図形の探索\n",
    "def search_shape(list_fin, list_stack_process, list_stack_termination, nest):\n",
    "    #print('==========')\n",
    "    #print('list_fin：' + str(list_fin))\n",
    "    #print('list_stack_process：' + str(list_stack_process))\n",
    "    #print('list_stack_termination：' + str(list_stack_termination))\n",
    "    #print('nest：' + str(nest))\n",
    "        \n",
    "    # スタックされている処理を取得\n",
    "    if len(list_stack_process) != 0:\n",
    "        current_shape = list_stack_process.pop()\n",
    "        process_shape(current_shape, nest)\n",
    "        \n",
    "        # 判定か繰り返しを処理した場合、nestをインクリメント\n",
    "        if dict_shape[current_shape]['add_info']['kubun'] in [1, 2]:\n",
    "            nest += 1\n",
    "        list_fin.append(current_shape)\n",
    "            \n",
    "    # 終端図形の番号を取得し、nestをデクリメント\n",
    "    elif len(list_stack_termination) != 0:\n",
    "        while len(list_stack_termination) != 0:\n",
    "            current_shape = list_stack_termination.pop()\n",
    "            if current_shape not in list_fin:\n",
    "                list_fin.append(current_shape)\n",
    "                nest -= 1\n",
    "                while 1:\n",
    "                    try:\n",
    "                        list_stack_termination.remove(current_shape)\n",
    "                    except ValueError as e:\n",
    "                        break\n",
    "                break\n",
    "\n",
    "    # 全て処理し終えていたらreturn\n",
    "    if len(list_fin) == dict_shape['cnt']:\n",
    "        return list_fin, list_stack_process, list_stack_termination, nest\n",
    "    \n",
    "    # out_line_noから次の図形を探索\n",
    "    for out_line in dict_shape[current_shape]['out_line_no']:\n",
    "        i = 0\n",
    "                \n",
    "        for i in range (0, dict_shape['cnt']):\n",
    "            if out_line in dict_shape[i]['in_line_no']:\n",
    "                # 見つかった図形が終端の場合は終端リストに格納\n",
    "                if dict_shape[i]['add_info']['kubun'] < 0:\n",
    "                    list_stack_termination.append(i)\n",
    "                \n",
    "                # 見つかった図形が終端ではない場合再帰処理\n",
    "                else:\n",
    "                    # 判定の2つめのout_line_noが終端以外に紐付いている場合、else句\n",
    "                    if dict_shape[current_shape]['add_info']['kubun'] == 1 and dict_shape[current_shape]['out_line_no'][1] == out_line:\n",
    "                        process_shape_judgement(current_shape, nest - 1, 1, dict_shape, fp, nest_str)\n",
    "                    list_stack_process.append(i)\n",
    "                    list_fin, list_stack_process, list_stack_termination, nest = search_shape(list_fin, list_stack_process, list_stack_termination, nest)\n",
    "                break\n",
    "\n",
    "    return list_fin, list_stack_process, list_stack_termination, nest\n",
    "'''"
   ]
  },
  {
   "cell_type": "code",
   "execution_count": 11,
   "metadata": {
    "scrolled": true
   },
   "outputs": [
    {
     "name": "stdout",
     "output_type": "stream",
     "text": [
      "['template_exe_query', 'sql']\n"
     ]
    },
    {
     "ename": "TypeError",
     "evalue": "search_shape() missing 5 required positional arguments: 'fp', 'nest_str', 'template_dir', 'base_dir', and 'df'",
     "output_type": "error",
     "traceback": [
      "\u001b[0;31m---------------------------------------------------------------------------\u001b[0m",
      "\u001b[0;31mTypeError\u001b[0m                                 Traceback (most recent call last)",
      "\u001b[0;32m<ipython-input-11-a0bebea3bef4>\u001b[0m in \u001b[0;36m<module>\u001b[0;34m\u001b[0m\n\u001b[1;32m     17\u001b[0m \u001b[0;34m\u001b[0m\u001b[0m\n\u001b[1;32m     18\u001b[0m     \u001b[0;31m# 図形の探索\u001b[0m\u001b[0;34m\u001b[0m\u001b[0;34m\u001b[0m\u001b[0;34m\u001b[0m\u001b[0m\n\u001b[0;32m---> 19\u001b[0;31m     \u001b[0mlist_fin\u001b[0m\u001b[0;34m,\u001b[0m \u001b[0mlist_stack_process\u001b[0m\u001b[0;34m,\u001b[0m \u001b[0mlist_stack_termination\u001b[0m\u001b[0;34m,\u001b[0m \u001b[0mnest\u001b[0m \u001b[0;34m=\u001b[0m \u001b[0msearch_shape\u001b[0m\u001b[0;34m(\u001b[0m\u001b[0mlist_fin\u001b[0m\u001b[0;34m,\u001b[0m \u001b[0mlist_stack_process\u001b[0m\u001b[0;34m,\u001b[0m \u001b[0mlist_stack_termination\u001b[0m\u001b[0;34m,\u001b[0m \u001b[0mnest\u001b[0m\u001b[0;34m,\u001b[0m \u001b[0mdict_shape\u001b[0m\u001b[0;34m,\u001b[0m \u001b[0mfp\u001b[0m\u001b[0;34m,\u001b[0m \u001b[0mnest_str\u001b[0m\u001b[0;34m,\u001b[0m \u001b[0mtemplate_dir\u001b[0m\u001b[0;34m,\u001b[0m \u001b[0mbase_dir\u001b[0m\u001b[0;34m,\u001b[0m \u001b[0mdf\u001b[0m\u001b[0;34m)\u001b[0m\u001b[0;34m\u001b[0m\u001b[0;34m\u001b[0m\u001b[0m\n\u001b[0m",
      "\u001b[0;32m~/Documents/GitHub/github/900_python/excel_object/lib/lib_shape_process.py\u001b[0m in \u001b[0;36msearch_shape\u001b[0;34m(list_fin, list_stack_process, list_stack_termination, nest, dict_shape, fp, nest_str, template_dir, base_dir, df)\u001b[0m\n\u001b[1;32m    152\u001b[0m                         \u001b[0mprocess_shape_judgement\u001b[0m\u001b[0;34m(\u001b[0m\u001b[0mcurrent_shape\u001b[0m\u001b[0;34m,\u001b[0m \u001b[0mnest\u001b[0m \u001b[0;34m-\u001b[0m \u001b[0;36m1\u001b[0m\u001b[0;34m,\u001b[0m \u001b[0;36m1\u001b[0m\u001b[0;34m,\u001b[0m \u001b[0mdict_shape\u001b[0m\u001b[0;34m,\u001b[0m \u001b[0mfp\u001b[0m\u001b[0;34m,\u001b[0m \u001b[0mnest_str\u001b[0m\u001b[0;34m)\u001b[0m\u001b[0;34m\u001b[0m\u001b[0;34m\u001b[0m\u001b[0m\n\u001b[1;32m    153\u001b[0m                     \u001b[0mlist_stack_process\u001b[0m\u001b[0;34m.\u001b[0m\u001b[0mappend\u001b[0m\u001b[0;34m(\u001b[0m\u001b[0mi\u001b[0m\u001b[0;34m)\u001b[0m\u001b[0;34m\u001b[0m\u001b[0;34m\u001b[0m\u001b[0m\n\u001b[0;32m--> 154\u001b[0;31m                     \u001b[0mlist_fin\u001b[0m\u001b[0;34m,\u001b[0m \u001b[0mlist_stack_process\u001b[0m\u001b[0;34m,\u001b[0m \u001b[0mlist_stack_termination\u001b[0m\u001b[0;34m,\u001b[0m \u001b[0mnest\u001b[0m \u001b[0;34m=\u001b[0m \u001b[0msearch_shape\u001b[0m\u001b[0;34m(\u001b[0m\u001b[0mlist_fin\u001b[0m\u001b[0;34m,\u001b[0m \u001b[0mlist_stack_process\u001b[0m\u001b[0;34m,\u001b[0m \u001b[0mlist_stack_termination\u001b[0m\u001b[0;34m,\u001b[0m \u001b[0mnest\u001b[0m\u001b[0;34m,\u001b[0m \u001b[0mdict_shape\u001b[0m\u001b[0;34m)\u001b[0m\u001b[0;34m\u001b[0m\u001b[0;34m\u001b[0m\u001b[0m\n\u001b[0m\u001b[1;32m    155\u001b[0m                 \u001b[0;32mbreak\u001b[0m\u001b[0;34m\u001b[0m\u001b[0;34m\u001b[0m\u001b[0m\n\u001b[1;32m    156\u001b[0m \u001b[0;34m\u001b[0m\u001b[0m\n",
      "\u001b[0;31mTypeError\u001b[0m: search_shape() missing 5 required positional arguments: 'fp', 'nest_str', 'template_dir', 'base_dir', and 'df'"
     ]
    }
   ],
   "source": [
    "list_fin = []\n",
    "list_stack_process = []\n",
    "list_stack_termination = []\n",
    "nest = 0\n",
    "\n",
    "# 図形の処理を全て終わるまでループ\n",
    "while len(list_fin) != dict_shape['cnt']:\n",
    "    \n",
    "    # はじめの図形の処理\n",
    "    if len(list_fin) == 0 and len(list_stack_process) == 0 and len(list_stack_termination) == 0:\n",
    "        i = 0\n",
    "        for i in range (0, dict_shape['cnt']):\n",
    "            if len(dict_shape[i]['in_line_no']) == 0:\n",
    "                list_stack_process.append(i)\n",
    "                break\n",
    "        continue\n",
    "    \n",
    "    # 図形の探索\n",
    "    list_fin, list_stack_process, list_stack_termination, nest = search_shape(list_fin, list_stack_process, list_stack_termination, nest, dict_shape, fp, nest_str, template_dir, base_dir, df)"
   ]
  },
  {
   "cell_type": "code",
   "execution_count": 17,
   "metadata": {},
   "outputs": [],
   "source": [
    "fp.close()"
   ]
  },
  {
   "cell_type": "code",
   "execution_count": null,
   "metadata": {},
   "outputs": [],
   "source": []
  }
 ],
 "metadata": {
  "kernelspec": {
   "display_name": "Python 3",
   "language": "python",
   "name": "python3"
  },
  "language_info": {
   "codemirror_mode": {
    "name": "ipython",
    "version": 3
   },
   "file_extension": ".py",
   "mimetype": "text/x-python",
   "name": "python",
   "nbconvert_exporter": "python",
   "pygments_lexer": "ipython3",
   "version": "3.8.5"
  }
 },
 "nbformat": 4,
 "nbformat_minor": 4
}
