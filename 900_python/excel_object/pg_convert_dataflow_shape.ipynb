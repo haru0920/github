{
 "cells": [
  {
   "cell_type": "code",
   "execution_count": null,
   "metadata": {},
   "outputs": [],
   "source": [
    "import os\n",
    "import shutil\n",
    "\n",
    "import xlwings as xw\n",
    "import pandas as pd\n",
    "\n",
    "# 作成ライブラリの読み込み\n",
    "from lib.lib_directory import *\n",
    "from lib.lib_shape import *\n",
    "from lib.lib_shape_process import *\n",
    "import lib.lib_init as var"
   ]
  },
  {
   "cell_type": "markdown",
   "metadata": {},
   "source": [
    "### 初期設定(実行前に確認・変更を行ってください)"
   ]
  },
  {
   "cell_type": "code",
   "execution_count": null,
   "metadata": {},
   "outputs": [],
   "source": [
    "#########################################\n",
    "# 初期設定(実行前に確認・変更を行ってください) #\n",
    "#########################################\n",
    "\n",
    "# データフローを記載するExcelファイル名\n",
    "filename = './sample.xlsx'\n",
    "\n",
    "# データフローを記載するシート名\n",
    "sheetname = 'データフロー図'\n",
    "\n",
    "# workflowのディレクトリ構造を出力ディレクトリ\n",
    "output_dir = './output/'\n",
    "\n",
    "# 各種設定のtemplateを格納しているディレクトリ\n",
    "template_dir = './template/'\n",
    "\n",
    "# workflowのプロジェクト名\n",
    "project_name = 'sample_project01'"
   ]
  },
  {
   "cell_type": "markdown",
   "metadata": {},
   "source": [
    "### 以降、プログラム処理の部分のため必要がない場合は修正を行わない"
   ]
  },
  {
   "cell_type": "code",
   "execution_count": null,
   "metadata": {},
   "outputs": [],
   "source": [
    "# workflowディレクトリの生成\n",
    "base_dir = output_dir + project_name\n",
    "init_dir(base_dir, output_dir, project_name)\n",
    "\n",
    "# mainとなるdigのファイルをオープン\n",
    "fp = open(base_dir + '/' + project_name + '.dig', 'w')\n",
    "\n",
    "# template_management.csvを取り込み\n",
    "df = pd.read_csv(template_dir + 'template_management.csv')\n",
    "\n",
    "# Excelデータの読み込み(フロー記述のExcel)\n",
    "wb = xw.Book(filename)\n",
    "sheet = wb.sheets[sheetname]\n",
    "\n",
    "# Excelデータの読み込み(templateのExcel)\n",
    "wb_tmp = xw.Book(template_dir + var.filename_tmp)\n",
    "sheet_tmp = wb_tmp.sheets.active"
   ]
  },
  {
   "cell_type": "code",
   "execution_count": null,
   "metadata": {},
   "outputs": [],
   "source": [
    "# 図形情報の辞書化\n",
    "dict_org = {}\n",
    "dict_org = get_shape_dict(sheet)\n",
    "\n",
    "# 図形付加情報,X軸下端,Y軸右端を追加\n",
    "dict_org = add_shape_info(dict_org)\n",
    "\n",
    "# 図形と線を分離\n",
    "dict_shape = {}\n",
    "dict_line = {}\n",
    "dict_shape, dict_line = split_shape_line_dict(dict_org)\n",
    "\n",
    "# 図形のin_point/out_pointを付与\n",
    "dict_shape = add_shape_info_point(dict_shape)\n",
    "\n",
    "# 図形のin_line_no/out_line_noを付与\n",
    "dict_shape = add_shape_info_lineno(dict_shape, dict_line)\n",
    "\n",
    "# 図形の処理を全て終わるまでループしてworkflowファイル群を生成\n",
    "main_shape_process(dict_shape, fp, template_dir, base_dir, df, wb_tmp, wb)\n",
    "\n",
    "# mainとなるdigのファイルをクローズ\n",
    "fp.close()"
   ]
  },
  {
   "cell_type": "code",
   "execution_count": null,
   "metadata": {},
   "outputs": [],
   "source": []
  }
 ],
 "metadata": {
  "kernelspec": {
   "display_name": "Python 3",
   "language": "python",
   "name": "python3"
  },
  "language_info": {
   "codemirror_mode": {
    "name": "ipython",
    "version": 3
   },
   "file_extension": ".py",
   "mimetype": "text/x-python",
   "name": "python",
   "nbconvert_exporter": "python",
   "pygments_lexer": "ipython3",
   "version": "3.8.5"
  }
 },
 "nbformat": 4,
 "nbformat_minor": 4
}
